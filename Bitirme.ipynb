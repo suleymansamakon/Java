{
  "nbformat": 4,
  "nbformat_minor": 0,
  "metadata": {
    "colab": {
      "name": "Bitirme.ipynb",
      "provenance": [],
      "collapsed_sections": [],
      "authorship_tag": "ABX9TyPSX5HN7lNKuauDYgR87iZ3",
      "include_colab_link": true
    },
    "kernelspec": {
      "name": "python3",
      "display_name": "Python 3"
    },
    "language_info": {
      "name": "python"
    },
    "accelerator": "GPU"
  },
  "cells": [
    {
      "cell_type": "markdown",
      "metadata": {
        "id": "view-in-github",
        "colab_type": "text"
      },
      "source": [
        "<a href=\"https://colab.research.google.com/github/suleymansamakon/Java/blob/master/Bitirme.ipynb\" target=\"_parent\"><img src=\"https://colab.research.google.com/assets/colab-badge.svg\" alt=\"Open In Colab\"/></a>"
      ]
    },
    {
      "cell_type": "code",
      "execution_count": null,
      "metadata": {
        "id": "Cf3u6RgmJ-cB"
      },
      "outputs": [],
      "source": [
        "\n",
        "\n",
        "import numpy as np\n",
        "import cv2\n",
        "import pandas as pd\n",
        "import matplotlib.pyplot as plt\n",
        "from keras.layers import Input\n",
        "from sklearn.model_selection import train_test_split\n",
        "\n",
        "from tensorflow.keras.layers import Dropout\n",
        "\n",
        "from tensorflow.keras.layers import Flatten, BatchNormalization\n",
        "\n",
        "from tensorflow.keras.layers import Dense, MaxPooling2D, Conv2D\n",
        "\n",
        "from tensorflow.keras.layers import Input, Activation, Add\n",
        "\n",
        "from tensorflow.keras.models import Model\n",
        "\n",
        "from tensorflow.keras.regularizers import l2\n",
        "\n",
        "from tensorflow.keras.optimizers import Adam\n",
        "\n",
        "\n",
        "\n",
        "\n",
        "\n",
        "path= \"/content/drive/MyDrive/dataset/age_gender.csv\"\n",
        "dataframe = pd.read_csv(path)\n",
        "dataframe.head()\n",
        "dataframe1 = pd.DataFrame(dataframe)\n",
        "dataframe1['pixels'] = dataframe1.pixels.apply\n",
        "(lambda x: np.reshape(np.array(x.split(' '), \n",
        "dtype='float32'), (48, 48)))\n",
        "dataframe1['pixels'] = dataframe1['pixels'] / 255\n",
        "resim = dataframe1['pixels'][5]\n",
        "\n",
        "plt.imshow(resim, cmap='gray')\n",
        "plt.axis('off')\n",
        "\n",
        "X = np.zeros(shape=(23705, 48, 48))\n",
        "for i in range(len(dataframe1[\"pixels\"])):\n",
        "    X[i] = dataframe1[\"pixels\"][i]\n",
        "\n",
        "yas = dataframe1['age']\n",
        "yas = yas.astype(float)\n",
        "yas = np.array(yas)\n",
        "yas.shape\n",
        "\n",
        "cinsiyet = dataframe1['gender']\n",
        "cinsiyet = np.array(cinsiyet)\n",
        "cinsiyet.shape\n",
        "labels_f = []\n",
        "\n",
        "i = 0\n",
        "\n",
        "while i < len(yas):\n",
        "    label = []\n",
        "    label.append([yas[i]])\n",
        "    label.append([cinsiyet[i]])\n",
        "    labels_f.append(label)\n",
        "    i += 1\n",
        "\n",
        "labels_f = np.array(labels_f)\n",
        "\n",
        "labels_f.shape\n",
        "\n",
        "X_train, X_test, Y_train, Y_test = train_test_split(X, labels_f, test_size=0.25, random_state=42)\n",
        "\n",
        "print(X_test.shape)\n",
        "\n",
        "print(X_train.shape)\n",
        "\n",
        "print(Y_test.shape)\n",
        "\n",
        "print(Y_train.shape)\n",
        "\n",
        "Y_train_2 = [Y_train[:, 1], Y_train[:, 0]]\n",
        "Y_test_2 = [Y_test[:, 1], Y_test[:, 0]]\n",
        "\n",
        "\n",
        "\n",
        "\n",
        "\n",
        "\n",
        "def Convolution(input_tensor, filters):\n",
        "    x = Conv2D(filters=filters, kernel_size=(3, 3), padding='same',\n",
        "               strides=(1, 1), kernel_regularizer=l2(0.001))(\n",
        "        input_tensor)\n",
        "\n",
        "    x = Dropout(0.1)(x)\n",
        "\n",
        "    x = Activation('relu')(x)\n",
        "\n",
        "    return x\n",
        "\n",
        "\n",
        "def model(input_shape):\n",
        "    inputs = Input((input_shape))\n",
        "\n",
        "    conv_1 = Convolution(inputs, 32)\n",
        "\n",
        "    maxp_1 = MaxPooling2D(pool_size=(2, 2))(conv_1)\n",
        "\n",
        "    conv_2 = Convolution(maxp_1, 64)\n",
        "    # 64-128-256 filtre sayısı\n",
        "    maxp_2 = MaxPooling2D(pool_size=(2, 2))(conv_2)\n",
        "\n",
        "    conv_3 = Convolution(maxp_2, 128)\n",
        "\n",
        "    maxp_3 = MaxPooling2D(pool_size=(2, 2))(conv_3)\n",
        "\n",
        "    conv_4 = Convolution(maxp_3, 256)\n",
        "\n",
        "    maxp_4 = MaxPooling2D(pool_size=(2, 2))(conv_4)\n",
        "\n",
        "    flatten = Flatten()(maxp_4)\n",
        "\n",
        "    dense_1 = Dense(64, activation='relu')(flatten)\n",
        "# 64 tane nöron koyuldu\n",
        "    dense_2 = Dense(64, activation='relu')(flatten)\n",
        "\n",
        "    drop_1 = Dropout(0.2)(dense_1)\n",
        "\n",
        "    drop_2 = Dropout(0.2)(dense_2)\n",
        "\n",
        "    output_1 = Dense(1, activation=\"relu\", name='cinsiyet_dogruluk_orani')(drop_1)\n",
        "\n",
        "    output_2 = Dense(1, activation=\"sigmoid\", name='yas_dogruluk_orani')(drop_2)\n",
        "\n",
        "    model = Model(inputs=[inputs], outputs=[output_1, output_2])\n",
        "\n",
        "    model.compile(loss=[\"binary_crossentropy\", \"mae\"], optimizer=\"Adam\",\n",
        "\n",
        "                  metrics=[\"accuracy\"])\n",
        "\n",
        "    return model\n",
        "\n",
        "\n",
        "Model = model((48, 48, 1))\n",
        "\n",
        "Model.summary()\n",
        "\n",
        "History = Model.fit(X_train, Y_train_2, batch_size=64,\n",
        "                      validation_data=(X_test, Y_test_2), epochs=32)\n",
        "\n",
        "pred = Model.predict(X_test)\n",
        "pred[1]\n",
        "from keras import models\n",
        "save_model=models.save_model(Model, '/content/drive/MyDrive/models/model.h5')\n",
        "\n",
        "\n",
        "\n",
        "\n",
        "Model=models.load_model('/content/drive/MyDrive/models/model.h5')\n",
        "# Model.summary()\n",
        "\n",
        "\n",
        "\n",
        "import cv2\n",
        "import numpy as np\n",
        "\n",
        "\n",
        "def load_and_prepare_image(image_path):\n",
        "    image = cv2.imread(image_path)\n",
        "    image = cv2.resize(image, (48, 48), interpolation=cv2.INTER_AREA)\n",
        "    gray = cv2.cvtColor(image, cv2.COLOR_BGR2GRAY)\n",
        "    gray = np.array(gray, dtype='float32')\n",
        "    gray = gray.reshape((48, 48))\n",
        "    gray = gray / 255\n",
        "    plt.imshow(gray, cmap='gray')\n",
        "    return gray\n",
        "\n",
        "\n",
        "def test_image(image, Model):\n",
        "    pred_1 = Model.predict(np.array([image]))\n",
        "    cinsiyetler = ['Erkek', 'Kadin']\n",
        "    yas = int(np.round(pred_1[1][0]))\n",
        "    cinsiyet = int(np.round(pred_1[0][0]))\n",
        "    print(\"Tahmini Yas :  \", str(yas))\n",
        "    print(\"Tahmini Cinsiyet: \", cinsiyetler[cinsiyet])\n",
        "\n",
        "\n",
        "\n",
        "\n",
        "\n",
        "Model=models.load_model('/content/drive/MyDrive/models/model.h5')\n",
        "prepared_image = load_and_prepare_image('/content/drive/MyDrive/foto10.jpg')\n",
        "test_image(prepared_image, Model)\n"
      ]
    },
    {
      "cell_type": "code",
      "source": [
        "\n",
        "from google.colab import drive\n",
        "drive.mount('/content/drive')"
      ],
      "metadata": {
        "colab": {
          "base_uri": "https://localhost:8080/"
        },
        "id": "IRbKqYI4y0c5",
        "outputId": "dba301af-1805-409a-fc84-2af1153aadf2"
      },
      "execution_count": 1,
      "outputs": [
        {
          "output_type": "stream",
          "name": "stdout",
          "text": [
            "Mounted at /content/drive\n"
          ]
        }
      ]
    },
    {
      "cell_type": "code",
      "source": [
        "Model=models.load_model('/content/drive/MyDrive/models/model.h5')\n",
        "Model.summary()"
      ],
      "metadata": {
        "colab": {
          "base_uri": "https://localhost:8080/"
        },
        "id": "0uOJNjwa3VWz",
        "outputId": "75c2fb38-76e8-4a4d-b8c1-b811b8474e1b"
      },
      "execution_count": null,
      "outputs": [
        {
          "output_type": "stream",
          "name": "stdout",
          "text": [
            "Model: \"model_7\"\n",
            "__________________________________________________________________________________________________\n",
            " Layer (type)                   Output Shape         Param #     Connected to                     \n",
            "==================================================================================================\n",
            " input_8 (InputLayer)           [(None, 48, 48, 1)]  0           []                               \n",
            "                                                                                                  \n",
            " conv2d_28 (Conv2D)             (None, 48, 48, 32)   320         ['input_8[0][0]']                \n",
            "                                                                                                  \n",
            " dropout_42 (Dropout)           (None, 48, 48, 32)   0           ['conv2d_28[0][0]']              \n",
            "                                                                                                  \n",
            " activation_28 (Activation)     (None, 48, 48, 32)   0           ['dropout_42[0][0]']             \n",
            "                                                                                                  \n",
            " max_pooling2d_28 (MaxPooling2D  (None, 24, 24, 32)  0           ['activation_28[0][0]']          \n",
            " )                                                                                                \n",
            "                                                                                                  \n",
            " conv2d_29 (Conv2D)             (None, 24, 24, 64)   18496       ['max_pooling2d_28[0][0]']       \n",
            "                                                                                                  \n",
            " dropout_43 (Dropout)           (None, 24, 24, 64)   0           ['conv2d_29[0][0]']              \n",
            "                                                                                                  \n",
            " activation_29 (Activation)     (None, 24, 24, 64)   0           ['dropout_43[0][0]']             \n",
            "                                                                                                  \n",
            " max_pooling2d_29 (MaxPooling2D  (None, 12, 12, 64)  0           ['activation_29[0][0]']          \n",
            " )                                                                                                \n",
            "                                                                                                  \n",
            " conv2d_30 (Conv2D)             (None, 12, 12, 128)  73856       ['max_pooling2d_29[0][0]']       \n",
            "                                                                                                  \n",
            " dropout_44 (Dropout)           (None, 12, 12, 128)  0           ['conv2d_30[0][0]']              \n",
            "                                                                                                  \n",
            " activation_30 (Activation)     (None, 12, 12, 128)  0           ['dropout_44[0][0]']             \n",
            "                                                                                                  \n",
            " max_pooling2d_30 (MaxPooling2D  (None, 6, 6, 128)   0           ['activation_30[0][0]']          \n",
            " )                                                                                                \n",
            "                                                                                                  \n",
            " conv2d_31 (Conv2D)             (None, 6, 6, 256)    295168      ['max_pooling2d_30[0][0]']       \n",
            "                                                                                                  \n",
            " dropout_45 (Dropout)           (None, 6, 6, 256)    0           ['conv2d_31[0][0]']              \n",
            "                                                                                                  \n",
            " activation_31 (Activation)     (None, 6, 6, 256)    0           ['dropout_45[0][0]']             \n",
            "                                                                                                  \n",
            " max_pooling2d_31 (MaxPooling2D  (None, 3, 3, 256)   0           ['activation_31[0][0]']          \n",
            " )                                                                                                \n",
            "                                                                                                  \n",
            " flatten_7 (Flatten)            (None, 2304)         0           ['max_pooling2d_31[0][0]']       \n",
            "                                                                                                  \n",
            " dense_14 (Dense)               (None, 64)           147520      ['flatten_7[0][0]']              \n",
            "                                                                                                  \n",
            " dense_15 (Dense)               (None, 64)           147520      ['flatten_7[0][0]']              \n",
            "                                                                                                  \n",
            " dropout_46 (Dropout)           (None, 64)           0           ['dense_14[0][0]']               \n",
            "                                                                                                  \n",
            " dropout_47 (Dropout)           (None, 64)           0           ['dense_15[0][0]']               \n",
            "                                                                                                  \n",
            " cinsiyet_dogruluk_orani (Dense  (None, 1)           65          ['dropout_46[0][0]']             \n",
            " )                                                                                                \n",
            "                                                                                                  \n",
            " yas_dogruluk_orani (Dense)     (None, 1)            65          ['dropout_47[0][0]']             \n",
            "                                                                                                  \n",
            "==================================================================================================\n",
            "Total params: 683,010\n",
            "Trainable params: 683,010\n",
            "Non-trainable params: 0\n",
            "__________________________________________________________________________________________________\n"
          ]
        }
      ]
    },
    {
      "cell_type": "code",
      "source": [
        "from keras import models\n",
        "import cv2\n",
        "import numpy as np\n",
        "import pandas as pd\n",
        "import matplotlib.pyplot as plt\n",
        "def load_and_prepare_image(image_path):\n",
        "    image = cv2.imread(image_path)\n",
        "    image = cv2.resize(image, (48, 48), interpolation=cv2.INTER_AREA)\n",
        "    gray = cv2.cvtColor(image, cv2.COLOR_BGR2GRAY)\n",
        "    gray = np.array(gray, dtype='float32')\n",
        "    gray = gray.reshape((48, 48))\n",
        "    gray = gray / 255\n",
        "    plt.imshow(gray, cmap='gray')\n",
        "    return gray\n",
        "\n",
        "\n",
        "def test_image(image, Model):\n",
        "    pred_1 = Model.predict(np.array([image]))\n",
        "    cinsiyetler = ['Erkek', 'Kadin']\n",
        "    yas = int(np.round(pred_1[1][0]))\n",
        "    cinsiyet = int(np.round(pred_1[0][0]))\n",
        "    print(\"Tahmini Yas :  \", str(yas))\n",
        "    print(\"Tahmini Cinsiyet: \", cinsiyetler[cinsiyet])\n",
        "\n",
        "\n",
        "\n",
        "\n",
        "\n",
        "Model=models.load_model('/content/drive/MyDrive/models/model.h5')\n",
        "prepared_image = load_and_prepare_image('/content/drive/MyDrive/photos/foto5.jpg')\n",
        "test_image(prepared_image, Model)\n"
      ],
      "metadata": {
        "colab": {
          "base_uri": "https://localhost:8080/",
          "height": 302
        },
        "id": "K6CEnnp3tTp9",
        "outputId": "2cf56ea2-103d-4660-f4e5-a99c7e3bc8b9"
      },
      "execution_count": 2,
      "outputs": [
        {
          "output_type": "stream",
          "name": "stdout",
          "text": [
            "Tahmini Yas :   36\n",
            "Tahmini Cinsiyet:  Erkek\n"
          ]
        },
        {
          "output_type": "display_data",
          "data": {
            "text/plain": [
              "<Figure size 432x288 with 1 Axes>"
            ],
            "image/png": "[encoded data removed]"
          },
          "metadata": {
            "needs_background": "light"
          }
        }
      ]
    },
    {
      "cell_type": "code",
      "source": [
        "df = pd.read_csv(\"/content/drive/MyDrive/dataset/age_gender.csv\")\n",
        "df1 = pd.DataFrame(df)\n",
        "\n",
        "plt.figure(figsize=(10, 7))\n",
        "ax = df1.gender.value_counts().plot.bar(x='0=Erkek 1=Kadın', y='Count', title='Cinsiyet',\n",
        "                                        legend=(1,0, ('Erkek', 'Kadin')))\n",
        "\n",
        "\n"
      ],
      "metadata": {
        "colab": {
          "base_uri": "https://localhost:8080/",
          "height": 441
        },
        "id": "Vefo8Nq2vf2h",
        "outputId": "7a6c4d92-9659-4f0d-d18a-79f078398476"
      },
      "execution_count": null,
      "outputs": [
        {
          "output_type": "display_data",
          "data": {
            "text/plain": [
              "<Figure size 720x504 with 1 Axes>"
            ],
            "image/png": "[encoded data removed]"
          },
          "metadata": {
            "needs_background": "light"
          }
        }
      ]
    },
    {
      "cell_type": "code",
      "source": [
        "df = pd.read_csv(\"/content/drive/MyDrive/dataset/age_gender.csv\")\n",
        "df1 = pd.DataFrame(df)\n",
        "\n",
        "df1['pixels'] = df1['pixels'].apply(lambda x: np.reshape(np.array(x.split(), dtype=\"float32\"), (48, 48)))\n",
        "\n",
        "\n",
        "\n",
        "def plot_data(rows, cols, lower_value, upper_value):\n",
        "    fig = plt.figure(figsize=(cols * 3, rows * 4))\n",
        "    for i in range(1, cols * rows + 1):\n",
        "        k = np.random.randint(lower_value, upper_value)\n",
        "        \n",
        "        cinsiyet = [df.gender[k]]\n",
        "        if cinsiyet==[0]:\n",
        "          cinsiyet='Erkek'\n",
        "        else:\n",
        "            cinsiyet='Kadin'\n",
        "        yas = df.age[k]\n",
        "        im = df.pixels[k]\n",
        "        plt.imshow(im, cmap='gray')\n",
        "        plt.axis('off')\n",
        "        plt.title(f'Yas:{yas}  Cinsiyet:{cinsiyet}')\n",
        "        plt.tight_layout()\n",
        "        plt.show()\n",
        "\n",
        "\n",
        "plot_data(rows=1, cols=4, lower_value=0, upper_value=len(df))"
      ],
      "metadata": {
        "colab": {
          "base_uri": "https://localhost:8080/",
          "height": 1000
        },
        "id": "BCunuxieMa5b",
        "outputId": "4d23b93a-55dc-43f5-b42c-8b5238b1460f"
      },
      "execution_count": null,
      "outputs": [
        {
          "output_type": "display_data",
          "data": {
            "text/plain": [
              "<Figure size 864x288 with 1 Axes>"
            ],
            "image/png": "[encoded data removed]"
          },
          "metadata": {}
        },
        {
          "output_type": "display_data",
          "data": {
            "text/plain": [
              "<Figure size 432x288 with 1 Axes>"
            ],
            "image/png": "[encoded data removed]"
          },
          "metadata": {}
        },
        {
          "output_type": "display_data",
          "data": {
            "text/plain": [
              "<Figure size 432x288 with 1 Axes>"
            ],
            "image/png": "[encoded data removed]"
          },
          "metadata": {}
        },
        {
          "output_type": "display_data",
          "data": {
            "text/plain": [
              "<Figure size 432x288 with 1 Axes>"
            ],
            "image/png": "[encoded data removed]"
          },
          "metadata": {}
        }
      ]
    }
  ]
}